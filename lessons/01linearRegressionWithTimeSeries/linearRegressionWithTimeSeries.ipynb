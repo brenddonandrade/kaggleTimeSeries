{
 "cells": [
  {
   "cell_type": "markdown",
   "metadata": {},
   "source": [
    "# Linear Regression With Time Series\n",
    "---"
   ]
  },
  {
   "cell_type": "markdown",
   "metadata": {},
   "source": [
    "## Welcome to Time Series!\n",
    "- Forecasting is perhaps the most common application of machine learning in the real world;\n",
    "- Businesses forecast product demand, governments forecast economic and population growth, meteorologists forecast the weather;\n",
    "- The understanding of things to come is a pressing need across science, government, and industry (not to mention our personal lives!), and practitioners in these fields are increasingly applying machine learning to address this need.\n",
    "---\n",
    "- Time series forecasting is a broad field with a long history;\n",
    "- "
   ]
  }
 ],
 "metadata": {
  "language_info": {
   "name": "python"
  }
 },
 "nbformat": 4,
 "nbformat_minor": 2
}
