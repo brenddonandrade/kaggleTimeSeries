{
 "cells": [
  {
   "cell_type": "markdown",
   "metadata": {},
   "source": [
    "# Trend\n",
    "---"
   ]
  },
  {
   "cell_type": "markdown",
   "metadata": {},
   "source": [
    "- Model long-term changes with moving averages and the time dummy.\n",
    "---\n"
   ]
  },
  {
   "cell_type": "markdown",
   "metadata": {},
   "source": [
    "## What is Trend?\n",
    "---\n",
    "- The trend component of a time series represents a persistent, long-term change in the mean of the series;\n",
    "- The trend is the slowest-moving part of a series, the part representing the largest time scale of importance;\n",
    "- In a time series of product sales, an increasing trend might be the effect of a market expansion as more people become aware of the product year by year.\n",
    "---"
   ]
  },
  {
   "cell_type": "markdown",
   "metadata": {},
   "source": [
    "<figure>\n",
    "  <img src=\"./imgs/trend.png\" alt=\"Demonstração de Trends\" />\n",
    "  <figcaption>Padrões de tendências em Séries Temporais.<br>Referência: <a href=\"https://www.kaggle.com/code/ryanholbrook/trend\" target=\"_blank\">https://www.kaggle.com/code/ryanholbrook/trend</a></figcaption>\n",
    "</figure>"
   ]
  },
  {
   "cell_type": "markdown",
   "metadata": {},
   "source": [
    "---\n",
    "- In this course, we'll focus on trends in the mean;\n",
    "- More generally though, any persistent and slow-moving change in a series could constitute a trend -- time series commonly have trends in their variation for instance.\n",
    "---"
   ]
  },
  {
   "cell_type": "markdown",
   "metadata": {},
   "source": [
    "## Moving Average Plots\n",
    "---"
   ]
  },
  {
   "cell_type": "markdown",
   "metadata": {},
   "source": [
    "- To see what kind of trend a time series might have, we can use a moving average plot;\n",
    "-  To compute a moving average of a time series, we compute the average of the values within a sliding window of some defined width;\n",
    "-  Each point on the graph represents the average of all the values in the series that fall within the window on either side;\n",
    "-  The idea is to smooth out any short-term fluctuations in the series so that only long-term changes remain.\n",
    "---"
   ]
  },
  {
   "cell_type": "markdown",
   "metadata": {},
   "source": [
    "<figure>\n",
    "    <img src=\"./imgs/movingAvarage.gif\">\n",
    "    <figcaption>    \n",
    "        A moving average plot illustrating a linear trend. Each point on the curve (blue) is the average of the points (red) within a window of size 12.<br>Ref: <a href=\"https://www.kaggle.com/code/ryanholbrook/trend\">https://www.kaggle.com/code/ryanholbrook/trend</a>\n",
    "    </figcaption>\n",
    "</figure>"
   ]
  },
  {
   "cell_type": "markdown",
   "metadata": {},
   "source": [
    "- Notice how the Mauna Loa series above has a repeating up and down movement year after year -- a short-term, seasonal change;\n",
    "- For a change to be a part of the trend, it should occur over a longer period than any seasonal changes;\n",
    "- To visualize a trend, therefore, we take an average over a period longer than any seasonal period in the series;\n",
    "- For the Mauna Loa series, we chose a window of size 12 to smooth over the season within each year.\n",
    "---"
   ]
  },
  {
   "cell_type": "markdown",
   "metadata": {},
   "source": [
    "## Engineering Trend\n",
    "---"
   ]
  },
  {
   "cell_type": "markdown",
   "metadata": {},
   "source": [
    "- Once we've identified the shape of the trend, we can attempt to model it using a time-step feature;\n",
    "-  We've already seen how using the time dummy itself will model a linear trend:\n",
    "\\begin{equation}\n",
    "    target = a \\cdot time + b\n",
    "\\end{equation}\n",
    "---\n",
    "- We can fit many other kinds of trend through transformations of the time dummy;\n",
    "- If the trend appears to be quadratic (a parabola), we just need to add the square of the time dummy to the feature set, giving us:\n",
    "\\begin{equation}\n",
    "    target = a \\cdot time^2 + b \\cdot time + c\n",
    "\\end{equation}\n",
    "---\n",
    "- Linear regression will learn the coefficients a, b, and c.\n",
    "---\n",
    "- The trend curves in the figure below were both fit using these kinds of features and scikit-learn's LinearRegression:"
   ]
  },
  {
   "cell_type": "markdown",
   "metadata": {},
   "source": [
    "<figure>\n",
    "    <img src=\"./imgs/engineeringTrend.png\">\n",
    "    <figcaption>Top: Series with a linear trend. Below: Series with a quadratic trend.<br>Ref: <a href=\"https://www.kaggle.com/code/ryanholbrook/trend\">https://www.kaggle.com/code/ryanholbrook/trend</a></figcaption>\n",
    "</figure>"
   ]
  },
  {
   "cell_type": "markdown",
   "metadata": {},
   "source": [
    "---\n",
    "- If you haven't seen the trick before, you may not have realized that linear regression can fit curves other than lines;\n",
    "- The idea is that if you can provide curves of the appropriate shape as features, then linear regression can learn how to combine them in the way that best fits the target.\n",
    "---"
   ]
  },
  {
   "cell_type": "markdown",
   "metadata": {},
   "source": [
    "## Example - Tunnel Traffic\n",
    "---"
   ]
  },
  {
   "cell_type": "markdown",
   "metadata": {},
   "source": [
    "- In this example we'll create a trend model for the Tunnel Traffic dataset."
   ]
  },
  {
   "cell_type": "code",
   "execution_count": 7,
   "metadata": {},
   "outputs": [],
   "source": [
    "# # Load Tunnel Traffic dataset\n",
    "# import pandas as pd\n",
    "\n",
    "# tunnel = pd.read_csv(\"tunnel.csv\", parse_dates=[\"Day\"])\n",
    "# tunnel = tunnel.set_index(\"Day\").to_period()"
   ]
  },
  {
   "cell_type": "markdown",
   "metadata": {},
   "source": [
    "- Let's make a moving average plot to see what kind of trend this series has;\n",
    "- Since this series has daily observations, let's choose a window of 365 days to smooth over any short-term changes within the year.\n",
    "---\n",
    "- To create a moving average, first use the rolling method to begin a windowed computation;\n",
    "- Follow this by the mean method to compute the average over the window;\n",
    "- As we can see, the trend of Tunnel Traffic appears to be about linear."
   ]
  },
  {
   "cell_type": "code",
   "execution_count": 8,
   "metadata": {},
   "outputs": [],
   "source": [
    "# moving_average = tunnel.rolling(\n",
    "#     window=365,       # 365-day window\n",
    "#     center=True,      # puts the average at the center of the window\n",
    "#     min_periods=183,  # choose about half the window size\n",
    "# ).mean()              # compute the mean (could also do median, std, min, max, ...)\n",
    "\n",
    "# ax = tunnel.plot(style=\".\", color=\"0.5\")\n",
    "# moving_average.plot(\n",
    "#     ax=ax, linewidth=3, title=\"Tunnel Traffic - 365-Day Moving Average\", legend=False,\n",
    "# );"
   ]
  },
  {
   "cell_type": "markdown",
   "metadata": {},
   "source": [
    "- In Lesson 1, we engineered our time dummy in Pandas directly;\n",
    "-  From now on, however, we'll use a function from the statsmodels library called DeterministicProcess;\n",
    "- Using this function will help us avoid some tricky failure cases that can arise with time series and linear regression;\n",
    "- The order argument refers to polynomial order: 1 for linear, 2 for quadratic, 3 for cubic, and so on."
   ]
  },
  {
   "cell_type": "code",
   "execution_count": null,
   "metadata": {},
   "outputs": [],
   "source": [
    "# from statsmodels.tsa.deterministic import DeterministicProcess\n",
    "\n",
    "# dp = DeterministicProcess(\n",
    "#     index=tunnel.index,  # dates from the training data\n",
    "#     constant=True,       # dummy feature for the bias (y_intercept)\n",
    "#     order=1,             # the time dummy (trend)\n",
    "#     drop=True,           # drop terms if necessary to avoid collinearity\n",
    "# )\n",
    "# # `in_sample` creates features for the dates given in the `index` argument\n",
    "# X = dp.in_sample()\n",
    "\n",
    "# X.head()"
   ]
  },
  {
   "cell_type": "markdown",
   "metadata": {},
   "source": [
    "- A deterministic process, by the way, is a technical term for a time series that is non-random or completely determined, like the const and trend series are;\n",
    "-  Features derived from the time index will generally be deterministic.\n",
    "---\n",
    "- We create our trend model basically as before, though note the addition of the fit_intercept=False argument."
   ]
  },
  {
   "cell_type": "code",
   "execution_count": null,
   "metadata": {},
   "outputs": [],
   "source": [
    "# from sklearn.linear_model import LinearRegression\n",
    "\n",
    "# y = tunnel[\"NumVehicles\"]  # the target\n",
    "\n",
    "# # The intercept is the same as the `const` feature from\n",
    "# # DeterministicProcess. LinearRegression behaves badly with duplicated\n",
    "# # features, so we need to be sure to exclude it here.\n",
    "# model = LinearRegression(fit_intercept=False)\n",
    "# model.fit(X, y)\n",
    "\n",
    "# y_pred = pd.Series(model.predict(X), index=X.index)"
   ]
  },
  {
   "cell_type": "markdown",
   "metadata": {},
   "source": [
    "- The trend discovered by our LinearRegression model is almost identical to the moving average plot, which suggests that a linear trend was the right decision in this case."
   ]
  },
  {
   "cell_type": "code",
   "execution_count": 9,
   "metadata": {},
   "outputs": [],
   "source": [
    "# ax = tunnel.plot(style=\".\", color=\"0.5\", title=\"Tunnel Traffic - Linear Trend\")\n",
    "# _ = y_pred.plot(ax=ax, linewidth=3, label=\"Trend\")"
   ]
  },
  {
   "cell_type": "markdown",
   "metadata": {},
   "source": [
    "- To make a forecast, we apply our model to \"out of sample\" features;\n",
    "- \"Out of sample\" refers to times outside of the observation period of the training data;\n",
    "- Here's how we could make a 30-day forecast:"
   ]
  },
  {
   "cell_type": "code",
   "execution_count": 11,
   "metadata": {},
   "outputs": [],
   "source": [
    "# X = dp.out_of_sample(steps=30)\n",
    "\n",
    "# y_fore = pd.Series(model.predict(X), index=X.index)\n",
    "\n",
    "# y_fore.head()"
   ]
  },
  {
   "cell_type": "markdown",
   "metadata": {},
   "source": [
    "- Let's plot a portion of the series to see the trend forecast for the next 30 days:"
   ]
  },
  {
   "cell_type": "code",
   "execution_count": 12,
   "metadata": {},
   "outputs": [],
   "source": [
    "# ax = tunnel[\"2005-05\":].plot(title=\"Tunnel Traffic - Linear Trend Forecast\", **plot_params)\n",
    "# ax = y_pred[\"2005-05\":].plot(ax=ax, linewidth=3, label=\"Trend\")\n",
    "# ax = y_fore.plot(ax=ax, linewidth=3, label=\"Trend Forecast\", color=\"C3\")\n",
    "# _ = ax.legend()"
   ]
  },
  {
   "cell_type": "markdown",
   "metadata": {},
   "source": [
    "- The trend models we learned about in this lesson turn out to be useful for a number of reasons;\n",
    "- Besides acting as a baseline or starting point for more sophisticated models, we can also use them as a component in a \"hybrid model\" with algorithms unable to learn trends (like XGBoost and random forests);\n",
    "- We'll learn more about this technique in Lesson 5."
   ]
  },
  {
   "cell_type": "markdown",
   "metadata": {},
   "source": [
    "## Your Turn"
   ]
  },
  {
   "cell_type": "markdown",
   "metadata": {},
   "source": [
    "- [Model trend in Store Sales](https://www.kaggle.com/kernels/fork/19616015) and understand the risks of forecasting with high-order polynomials;"
   ]
  }
 ],
 "metadata": {
  "kernelspec": {
   "display_name": "venv",
   "language": "python",
   "name": "python3"
  },
  "language_info": {
   "codemirror_mode": {
    "name": "ipython",
    "version": 3
   },
   "file_extension": ".py",
   "mimetype": "text/x-python",
   "name": "python",
   "nbconvert_exporter": "python",
   "pygments_lexer": "ipython3",
   "version": "3.13.1"
  }
 },
 "nbformat": 4,
 "nbformat_minor": 2
}
