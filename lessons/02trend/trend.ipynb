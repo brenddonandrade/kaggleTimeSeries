{
 "cells": [
  {
   "cell_type": "markdown",
   "metadata": {},
   "source": [
    "# Trend\n",
    "---"
   ]
  },
  {
   "cell_type": "markdown",
   "metadata": {},
   "source": [
    "- Model long-term changes with moving averages and the time dummy.\n",
    "---\n"
   ]
  },
  {
   "cell_type": "markdown",
   "metadata": {},
   "source": [
    "## What is Trend?\n",
    "---\n",
    "- The trend component of a time series represents a persistent, long-term change in the mean of the series;\n",
    "- The trend is the slowest-moving part of a series, the part representing the largest time scale of importance;\n",
    "- In a time series of product sales, an increasing trend might be the effect of a market expansion as more people become aware of the product year by year.\n",
    "---"
   ]
  },
  {
   "cell_type": "markdown",
   "metadata": {},
   "source": [
    "<figure>\n",
    "  <img src=\"./imgs/trend.png\" alt=\"Demonstração de Trends\" />\n",
    "  <figcaption>Padrões de tendências em Séries Temporais.<br>Referência: <a href=\"https://www.kaggle.com/code/ryanholbrook/trend\" target=\"_blank\">https://www.kaggle.com/code/ryanholbrook/trend</a></figcaption>\n",
    "</figure>"
   ]
  },
  {
   "cell_type": "markdown",
   "metadata": {},
   "source": [
    "---\n",
    "- In this course, we'll focus on trends in the mean;\n",
    "- More generally though, any persistent and slow-moving change in a series could constitute a trend -- time series commonly have trends in their variation for instance.\n",
    "---"
   ]
  },
  {
   "cell_type": "markdown",
   "metadata": {},
   "source": [
    "## Moving Average Plots\n",
    "---"
   ]
  },
  {
   "cell_type": "markdown",
   "metadata": {},
   "source": [
    "- To see what kind of trend a time series might have, we can use a moving average plot;\n",
    "-  To compute a moving average of a time series, we compute the average of the values within a sliding window of some defined width;\n",
    "-  Each point on the graph represents the average of all the values in the series that fall within the window on either side;\n",
    "-  The idea is to smooth out any short-term fluctuations in the series so that only long-term changes remain.\n",
    "---"
   ]
  },
  {
   "cell_type": "markdown",
   "metadata": {},
   "source": [
    "<figure>\n",
    "    <img src=\"./imgs/movingAvarage.gif\">\n",
    "    <figcaption>    \n",
    "        A moving average plot illustrating a linear trend. Each point on the curve (blue) is the average of the points (red) within a window of size 12.<br>Ref: <a href=\"https://www.kaggle.com/code/ryanholbrook/trend\">https://www.kaggle.com/code/ryanholbrook/trend</a>\n",
    "    </figcaption>\n",
    "</figure>"
   ]
  },
  {
   "cell_type": "markdown",
   "metadata": {},
   "source": [
    "- Notice how the Mauna Loa series above has a repeating up and down movement year after year -- a short-term, seasonal change;\n",
    "- For a change to be a part of the trend, it should occur over a longer period than any seasonal changes;\n",
    "- To visualize a trend, therefore, we take an average over a period longer than any seasonal period in the series;\n",
    "- For the Mauna Loa series, we chose a window of size 12 to smooth over the season within each year.\n",
    "---"
   ]
  },
  {
   "cell_type": "markdown",
   "metadata": {},
   "source": [
    "## Engineering Trend\n",
    "---"
   ]
  },
  {
   "cell_type": "markdown",
   "metadata": {},
   "source": [
    "- Once we've identified the shape of the trend, we can attempt to model it using a time-step feature;\n",
    "-  We've already seen how using the time dummy itself will model a linear trend:\n",
    "\\begin{equation}\n",
    "    target = a \\cdot time + b\n",
    "\\end{equation}\n",
    "---\n",
    "- We can fit many other kinds of trend through transformations of the time dummy;\n",
    "- If the trend appears to be quadratic (a parabola), we just need to add the square of the time dummy to the feature set, giving us:\n",
    "\\begin{equation}\n",
    "    target = a \\cdot time^2 + b \\cdot time + c\n",
    "\\end{equation}\n",
    "---\n",
    "- Linear regression will learn the coefficients a, b, and c.\n",
    "---\n",
    "- The trend curves in the figure below were both fit using these kinds of features and scikit-learn's LinearRegression:"
   ]
  },
  {
   "cell_type": "markdown",
   "metadata": {},
   "source": [
    "<figure>\n",
    "    <img src=\"./imgs/engineeringTrend.png\">\n",
    "    <figcaption>Top: Series with a linear trend. Below: Series with a quadratic trend.<br>Ref: <a href=\"https://www.kaggle.com/code/ryanholbrook/trend\">https://www.kaggle.com/code/ryanholbrook/trend</a></figcaption>\n",
    "</figure>"
   ]
  },
  {
   "cell_type": "markdown",
   "metadata": {},
   "source": [
    "---\n",
    "- If you haven't seen the trick before, you may not have realized that linear regression can fit curves other than lines;\n",
    "- The idea is that if you can provide curves of the appropriate shape as features, then linear regression can learn how to combine them in the way that best fits the target.\n",
    "---"
   ]
  },
  {
   "cell_type": "markdown",
   "metadata": {},
   "source": [
    "## Example - Tunnel Traffic\n",
    "---"
   ]
  },
  {
   "cell_type": "markdown",
   "metadata": {},
   "source": [
    "- In this example we'll create a trend model for the Tunnel Traffic dataset."
   ]
  }
 ],
 "metadata": {
  "kernelspec": {
   "display_name": "venv",
   "language": "python",
   "name": "python3"
  },
  "language_info": {
   "codemirror_mode": {
    "name": "ipython",
    "version": 3
   },
   "file_extension": ".py",
   "mimetype": "text/x-python",
   "name": "python",
   "nbconvert_exporter": "python",
   "pygments_lexer": "ipython3",
   "version": "3.13.1"
  }
 },
 "nbformat": 4,
 "nbformat_minor": 2
}
