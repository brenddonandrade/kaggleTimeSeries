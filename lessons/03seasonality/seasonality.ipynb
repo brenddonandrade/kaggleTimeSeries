{
 "cells": [
  {
   "cell_type": "markdown",
   "metadata": {},
   "source": [
    "# Seasonality\n",
    "- Create indicators and Fourier features to capture periodic change.\n",
    "---"
   ]
  },
  {
   "cell_type": "markdown",
   "metadata": {},
   "source": [
    "## What is Seasonality?\n",
    "---\n",
    "- We say that a time series exhibits seasonality whenever there is a regular, periodic change in the mean of the series;\n",
    "-  Seasonal changes generally follow the clock and calendar -- repetitions over a day, a week, or a year are common;\n",
    "- Seasonality is often driven by the cycles of the natural world over days and years or by conventions of social behavior surrounding dates and times."
   ]
  },
  {
   "cell_type": "markdown",
   "metadata": {},
   "source": [
    "<figure>\n",
    "    <img src=\"./imgs/seasonality.png\">\n",
    "    <figcaption>Seasonal patterns in four time series.<br>Ref: <a href=\"https://www.kaggle.com/code/ryanholbrook/seasonality\">https://www.kaggle.com/code/ryanholbrook/seasonality</a>\n",
    "</figure>"
   ]
  },
  {
   "cell_type": "markdown",
   "metadata": {},
   "source": [
    "- We will learn two kinds of features that model seasonality;\n",
    "- The first kind, indicators, is best for a season with few observations, like a weekly season of daily observations;\n",
    "- The second kind, Fourier features, is best for a season with many observations, like an annual season of daily observations.\n",
    "---"
   ]
  },
  {
   "cell_type": "markdown",
   "metadata": {},
   "source": [
    "## Seasonal Plots and Seasonal Indicators\n",
    "---\n",
    "- Just like we used a moving average plot to discover the trend in a series, we can use a seasonal plot to discover seasonal patterns.\n",
    "---\n",
    "- A seasonal plot shows segments of the time series plotted against some common period, the period being the \"season\" you want to observe;\n",
    "- The figure shows a seasonal plot of the daily views of Wikipedia's article on Trigonometry: the article's daily views plotted over a common weekly period."
   ]
  },
  {
   "cell_type": "markdown",
   "metadata": {},
   "source": [
    "<figure>\n",
    "    <img src=\"./imgs/trigonometry.png\">\n",
    "    <figcaption>There is a clear weekly seasonal pattern in this series, higher on weekdays and falling towards the weekend. <br>Ref: <a href=\"https://www.kaggle.com/code/ryanholbrook/seasonality\">https://www.kaggle.com/code/ryanholbrook/seasonality</a>\n",
    "</figure>"
   ]
  },
  {
   "cell_type": "markdown",
   "metadata": {},
   "source": [
    "### Seasonal indicators\n",
    "---\n",
    "- Seasonal indicators are binary features that represent seasonal differences in the level of a time series;\n",
    "- Seasonal indicators are what you get if you treat a seasonal period as a categorical feature and apply one-hot encoding.\n",
    "---\n",
    "- By one-hot encoding days of the week, we get weekly seasonal indicators;\n",
    "- Creating weekly indicators for the Trigonometry series will then give us six new \"dummy\" features;\n",
    "- (Linear regression works best if you drop one of the indicators).\n",
    "---\n",
    "- Adding seasonal indicators to the training data helps models distinguish means within a seasonal period:"
   ]
  },
  {
   "cell_type": "markdown",
   "metadata": {},
   "source": [
    "<figure>\n",
    "    <img src=\"./imgs/trainingWithSeasonalIndicators.png\">\n",
    "    <figcaption>Ordinary linear regression learns the mean values at each time in the season. <br>Ref: <a href=\"https://www.kaggle.com/code/ryanholbrook/seasonality\">https://www.kaggle.com/code/ryanholbrook/seasonality</a>\n",
    "</figure>"
   ]
  },
  {
   "cell_type": "markdown",
   "metadata": {},
   "source": [
    "- The indicators act as On / Off switches;\n",
    "- At any time, at most one of these indicators can have a value of 1 (On);\n",
    "- Linear regression learns a baseline value 2379 for Mon and then adjusts by the value of whichever indicator is On for that day; the rest are 0 and vanish."
   ]
  },
  {
   "cell_type": "markdown",
   "metadata": {},
   "source": [
    "## Fourier Features and the Periodogram\n",
    "---\n",
    "- The kind of feature we discuss now are better suited for long seasons over many observations where indicators would be impractical;\n",
    "- "
   ]
  }
 ],
 "metadata": {
  "kernelspec": {
   "display_name": "venv",
   "language": "python",
   "name": "python3"
  },
  "language_info": {
   "name": "python",
   "version": "3.13.1"
  }
 },
 "nbformat": 4,
 "nbformat_minor": 2
}
